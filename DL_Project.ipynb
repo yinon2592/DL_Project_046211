{
  "nbformat": 4,
  "nbformat_minor": 0,
  "metadata": {
    "colab": {
      "provenance": [],
      "include_colab_link": true
    },
    "kernelspec": {
      "name": "python3",
      "display_name": "Python 3"
    },
    "language_info": {
      "name": "python"
    }
  },
  "cells": [
    {
      "cell_type": "markdown",
      "metadata": {
        "id": "view-in-github",
        "colab_type": "text"
      },
      "source": [
        "<a href=\"https://colab.research.google.com/github/yinon2592/DL_Project_046211/blob/section_1_create_a_sentiment_classifier/DL_Project.ipynb\" target=\"_parent\"><img src=\"https://colab.research.google.com/assets/colab-badge.svg\" alt=\"Open In Colab\"/></a>"
      ]
    },
    {
      "cell_type": "code",
      "execution_count": null,
      "metadata": {
        "id": "OrKaF3Adh4uf",
        "colab": {
          "base_uri": "https://localhost:8080/"
        },
        "outputId": "dff69398-8a1f-4959-9244-d591eb0d1ab6"
      },
      "outputs": [
        {
          "output_type": "stream",
          "name": "stdout",
          "text": [
            "hello world\n",
            "bye bye world\n"
          ]
        }
      ],
      "source": [
        "print(\"hello world\")\n",
        "print(\"bye bye world\")"
      ]
    },
    {
      "cell_type": "code",
      "source": [
        "print(\"Sivan has added that :)\")"
      ],
      "metadata": {
        "id": "tEj1Guj4khpL",
        "outputId": "cb7c4611-1f57-4099-a172-72104e470dee",
        "colab": {
          "base_uri": "https://localhost:8080/"
        }
      },
      "execution_count": 2,
      "outputs": [
        {
          "output_type": "stream",
          "name": "stdout",
          "text": [
            "Sivan has added that :)\n"
          ]
        }
      ]
    }
  ]
}